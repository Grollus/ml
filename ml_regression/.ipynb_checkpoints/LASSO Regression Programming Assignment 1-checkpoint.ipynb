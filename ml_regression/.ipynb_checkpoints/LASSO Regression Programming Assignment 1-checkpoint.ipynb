{
 "cells": [
  {
   "cell_type": "code",
   "execution_count": 1,
   "metadata": {
    "collapsed": true
   },
   "outputs": [],
   "source": [
    "import graphlab"
   ]
  },
  {
   "cell_type": "code",
   "execution_count": 3,
   "metadata": {
    "collapsed": false
   },
   "outputs": [],
   "source": [
    "sales = graphlab.SFrame('kc_house_data.gl/')"
   ]
  },
  {
   "cell_type": "code",
   "execution_count": 4,
   "metadata": {
    "collapsed": true
   },
   "outputs": [],
   "source": [
    "from math import log, sqrt\n",
    "sales['sqft_living_sqrt'] = sales['sqft_living'].apply(sqrt)"
   ]
  },
  {
   "cell_type": "code",
   "execution_count": 10,
   "metadata": {
    "collapsed": false
   },
   "outputs": [],
   "source": [
    "sales['sqft_lot_sqrt'] = sales['sqft_lot'].apply(sqrt)\n",
    "sales['bedrooms_square'] = sales['bedrooms']*sales['bedrooms']"
   ]
  },
  {
   "cell_type": "code",
   "execution_count": 13,
   "metadata": {
    "collapsed": false
   },
   "outputs": [],
   "source": [
    "sales['floors'] = sales['floors'].astype(int)\n",
    "sales['floors_square'] = sales['floors']*sales['floors']"
   ]
  },
  {
   "cell_type": "code",
   "execution_count": 101,
   "metadata": {
    "collapsed": true
   },
   "outputs": [],
   "source": [
    "all_features = ['bedrooms', 'bedrooms_square',\n",
    "            'bathrooms',\n",
    "            'sqft_living', 'sqft_living_sqrt',\n",
    "            'sqft_lot', 'sqft_lot_sqrt',\n",
    "            'floors', 'floors_square',\n",
    "            'waterfront', 'view', 'condition', 'grade',\n",
    "            'sqft_above',\n",
    "            'sqft_basement',\n",
    "            'yr_built', 'yr_renovated']"
   ]
  },
  {
   "cell_type": "code",
   "execution_count": 102,
   "metadata": {
    "collapsed": false
   },
   "outputs": [
    {
     "name": "stdout",
     "output_type": "stream",
     "text": [
      "PROGRESS: Linear regression:\n",
      "PROGRESS: --------------------------------------------------------\n",
      "PROGRESS: Number of examples          : 21613\n",
      "PROGRESS: Number of features          : 17\n",
      "PROGRESS: Number of unpacked features : 17\n",
      "PROGRESS: Number of coefficients    : 18\n",
      "PROGRESS: Starting Accelerated Gradient (FISTA)\n",
      "PROGRESS: --------------------------------------------------------\n",
      "PROGRESS: +-----------+----------+-----------+--------------+--------------------+---------------+\n",
      "PROGRESS: | Iteration | Passes   | Step size | Elapsed Time | Training-max_error | Training-rmse |\n",
      "PROGRESS: +-----------+----------+-----------+--------------+--------------------+---------------+\n",
      "PROGRESS: Tuning step size. First iteration could take longer than subsequent iterations.\n",
      "PROGRESS: | 1         | 2        | 0.000002  | 0.125147     | 6981926.539042     | 427729.501760 |\n",
      "PROGRESS: | 2         | 3        | 0.000002  | 0.136161     | 6861970.573528     | 393259.158552 |\n",
      "PROGRESS: | 3         | 4        | 0.000002  | 0.146173     | 6847846.504650     | 385921.135875 |\n",
      "PROGRESS: | 4         | 5        | 0.000002  | 0.157187     | 6859080.563467     | 385317.129588 |\n",
      "PROGRESS: | 5         | 6        | 0.000002  | 0.168201     | 6877408.472440     | 386444.117469 |\n",
      "PROGRESS: | 6         | 7        | 0.000002  | 0.180217     | 6848120.275355     | 380577.022481 |\n",
      "PROGRESS: +-----------+----------+-----------+--------------+--------------------+---------------+\n",
      "PROGRESS: TERMINATED: Iteration limit reached.\n",
      "PROGRESS: This model may not be optimal. To improve it, consider increasing `max_iterations`.\n"
     ]
    }
   ],
   "source": [
    "model_all = graphlab.linear_regression.create(sales, target = 'price', features = all_features,\n",
    "                                             validation_set = None, \n",
    "                                              l2_penalty = 0., l1_penalty = 1e10)"
   ]
  },
  {
   "cell_type": "code",
   "execution_count": 103,
   "metadata": {
    "collapsed": false
   },
   "outputs": [
    {
     "name": "stdout",
     "output_type": "stream",
     "text": [
      "+------------------+-------+---------------+\n",
      "|       name       | index |     value     |\n",
      "+------------------+-------+---------------+\n",
      "|   (intercept)    |  None |  274952.62044 |\n",
      "|     bedrooms     |  None |      0.0      |\n",
      "| bedrooms_square  |  None |      0.0      |\n",
      "|    bathrooms     |  None | 8483.95148798 |\n",
      "|   sqft_living    |  None | 24.4238022551 |\n",
      "| sqft_living_sqrt |  None | 351.097833343 |\n",
      "|     sqft_lot     |  None |      0.0      |\n",
      "|  sqft_lot_sqrt   |  None |      0.0      |\n",
      "|      floors      |  None |      0.0      |\n",
      "|  floors_square   |  None |      0.0      |\n",
      "|    waterfront    |  None |      0.0      |\n",
      "|       view       |  None |      0.0      |\n",
      "|    condition     |  None |      0.0      |\n",
      "|      grade       |  None | 850.427363977 |\n",
      "|    sqft_above    |  None | 20.0777654516 |\n",
      "|  sqft_basement   |  None |      0.0      |\n",
      "+------------------+-------+---------------+\n",
      "[18 rows x 3 columns]\n",
      "\n"
     ]
    }
   ],
   "source": [
    "model_all.get('coefficients').print_rows(num_rows = 16)"
   ]
  },
  {
   "cell_type": "code",
   "execution_count": 104,
   "metadata": {
    "collapsed": true
   },
   "outputs": [],
   "source": [
    "(training_and_validation, testing) = sales.random_split(.9, seed = 1)\n",
    "(training, validation) = training_and_validation.random_split(0.5, seed = 1)"
   ]
  },
  {
   "cell_type": "code",
   "execution_count": 105,
   "metadata": {
    "collapsed": true
   },
   "outputs": [],
   "source": [
    "import numpy as np\n",
    "l1_values = np.logspace(1, 7, num = 13)"
   ]
  },
  {
   "cell_type": "code",
   "execution_count": 106,
   "metadata": {
    "collapsed": false
   },
   "outputs": [
    {
     "name": "stdout",
     "output_type": "stream",
     "text": [
      "l1_value: 10.0\n",
      "6.28412158085e+14\n",
      "l1_value: 31.6227766017\n",
      "6.28412158283e+14\n",
      "l1_value: 100.0\n",
      "6.28412158907e+14\n",
      "l1_value: 316.227766017\n",
      "6.28412160882e+14\n",
      "l1_value: 1000.0\n",
      "6.28412167128e+14\n",
      "l1_value: 3162.27766017\n",
      "6.2841218688e+14\n",
      "l1_value: 10000.0\n",
      "6.28412249343e+14\n",
      "l1_value: 31622.7766017\n",
      "6.28412446908e+14\n",
      "l1_value: 100000.0\n",
      "6.2841307204e+14\n",
      "l1_value: 316227.766017\n",
      "6.28415052663e+14\n",
      "l1_value: 1000000.0\n",
      "6.2842135376e+14\n",
      "l1_value: 3162277.66017\n",
      "6.28441657748e+14\n",
      "l1_value: 10000000.0\n",
      "6.28509646259e+14\n"
     ]
    }
   ],
   "source": [
    "RSS_list = []\n",
    "for l1_value in np.logspace(1, 7, num = 13):\n",
    "    print \"l1_value: \" + str(l1_value)\n",
    "    model = graphlab.linear_regression.create(training, target = 'price', features = all_features, validation_set = None,\n",
    "                                             l1_penalty = l1_value, l2_penalty = 0., verbose = False)\n",
    "    RSS = ((validation['price'] - model.predict(validation))**2).sum()\n",
    "    RSS_list.append(RSS)\n",
    "    print RSS"
   ]
  },
  {
   "cell_type": "code",
   "execution_count": 27,
   "metadata": {
    "collapsed": false
   },
   "outputs": [
    {
     "name": "stdout",
     "output_type": "stream",
     "text": [
      "6.24975431996e+14\n"
     ]
    }
   ],
   "source": [
    "model = graphlab.linear_regression.create(training, target = 'price', features = all_features, validation_set = None,\n",
    "                                             l1_penalty = l1_values[0], l2_penalty = 0., verbose = False)\n",
    "RSS = ((validation['price'] - model.predict(validation))**2).sum()\n",
    "print RSS"
   ]
  },
  {
   "cell_type": "code",
   "execution_count": 26,
   "metadata": {
    "collapsed": false
   },
   "outputs": [
    {
     "data": {
      "text/plain": [
       "10.0"
      ]
     },
     "execution_count": 26,
     "metadata": {},
     "output_type": "execute_result"
    }
   ],
   "source": [
    "l1_values[0]"
   ]
  },
  {
   "cell_type": "code",
   "execution_count": 28,
   "metadata": {
    "collapsed": false
   },
   "outputs": [
    {
     "name": "stdout",
     "output_type": "stream",
     "text": [
      "6.24975432277e+14\n"
     ]
    }
   ],
   "source": [
    "model = graphlab.linear_regression.create(training, target = 'price', features = all_features, validation_set = None,\n",
    "                                             l1_penalty = l1_values[1], l2_penalty = 0., verbose = False)\n",
    "RSS = ((validation['price'] - model.predict(validation))**2).sum()\n",
    "print RSS"
   ]
  },
  {
   "cell_type": "code",
   "execution_count": 108,
   "metadata": {
    "collapsed": false
   },
   "outputs": [
    {
     "data": {
      "text/plain": [
       "[628412158085184.9,\n",
       " 628412158282694.2,\n",
       " 628412158907274.1,\n",
       " 628412160882372.2,\n",
       " 628412167128218.9,\n",
       " 628412186879697.5,\n",
       " 628412249343142.6,\n",
       " 628412446907719.4,\n",
       " 628413072039907.9,\n",
       " 628415052663291.8,\n",
       " 628421353760493.2,\n",
       " 628441657747716.5,\n",
       " 628509646259482.0]"
      ]
     },
     "execution_count": 108,
     "metadata": {},
     "output_type": "execute_result"
    }
   ],
   "source": [
    "RSS_list"
   ]
  },
  {
   "cell_type": "code",
   "execution_count": 107,
   "metadata": {
    "collapsed": false
   },
   "outputs": [
    {
     "data": {
      "text/plain": [
       "628412158085184.9"
      ]
     },
     "execution_count": 107,
     "metadata": {},
     "output_type": "execute_result"
    }
   ],
   "source": [
    "min(RSS_list)"
   ]
  },
  {
   "cell_type": "code",
   "execution_count": 109,
   "metadata": {
    "collapsed": false
   },
   "outputs": [
    {
     "name": "stdout",
     "output_type": "stream",
     "text": [
      "1.57662866594e+14\n"
     ]
    }
   ],
   "source": [
    "model_low_rss = graphlab.linear_regression.create(testing, target = 'price', features = all_features, validation_set = None,\n",
    "                                                 l1_penalty = 10, l2_penalty = 0., verbose = False)\n",
    "low_rss = ((testing['price'] - model.predict(testing))**2).sum()\n",
    "print low_rss"
   ]
  },
  {
   "cell_type": "code",
   "execution_count": 110,
   "metadata": {
    "collapsed": false
   },
   "outputs": [],
   "source": [
    "model_l1_10 = graphlab.linear_regression.create(training, target = 'price', features = all_features, validation_set = None,\n",
    "                                               l1_penalty = 10, l2_penalty = 0., verbose = False)"
   ]
  },
  {
   "cell_type": "code",
   "execution_count": 111,
   "metadata": {
    "collapsed": false
   },
   "outputs": [
    {
     "data": {
      "text/plain": [
       "18"
      ]
     },
     "execution_count": 111,
     "metadata": {},
     "output_type": "execute_result"
    }
   ],
   "source": [
    "model_l1_10['coefficients']['value'].nnz()"
   ]
  },
  {
   "cell_type": "code",
   "execution_count": 43,
   "metadata": {
    "collapsed": false
   },
   "outputs": [
    {
     "name": "stdout",
     "output_type": "stream",
     "text": [
      "+------------------+-------+---------------+\n",
      "|       name       | index |     value     |\n",
      "+------------------+-------+---------------+\n",
      "|   (intercept)    |  None | 21862.6301741 |\n",
      "|     bedrooms     |  None | 8536.55114934 |\n",
      "| bedrooms_square  |  None | 951.779014251 |\n",
      "|    bathrooms     |  None |  26071.312855 |\n",
      "|   sqft_living    |  None | 40.3726918916 |\n",
      "| sqft_living_sqrt |  None |  1187.7350301 |\n",
      "|      floors      |  None | 20269.7857343 |\n",
      "|  floors_square   |  None | 11116.3308822 |\n",
      "|    waterfront    |  None | 605410.063799 |\n",
      "|       view       |  None | 94701.1677273 |\n",
      "|    condition     |  None |  7488.9837845 |\n",
      "|      grade       |  None | 6551.52816569 |\n",
      "|    sqft_above    |  None | 45.0575913705 |\n",
      "|  sqft_basement   |  None | 121.043415784 |\n",
      "|     yr_built     |  None |  10.858168471 |\n",
      "|   yr_renovated   |  None | 56.9039466586 |\n",
      "+------------------+-------+---------------+\n",
      "[16 rows x 3 columns]\n",
      "\n"
     ]
    }
   ],
   "source": [
    "model_l1_10.get('coefficients').print_rows(num_rows = 16)"
   ]
  },
  {
   "cell_type": "code",
   "execution_count": 72,
   "metadata": {
    "collapsed": true
   },
   "outputs": [],
   "source": [
    "max_nonzeros = 7"
   ]
  },
  {
   "cell_type": "code",
   "execution_count": 121,
   "metadata": {
    "collapsed": true
   },
   "outputs": [],
   "source": [
    "l1_penalty_values = np.logspace(8, 10, num = 20)"
   ]
  },
  {
   "cell_type": "code",
   "execution_count": 122,
   "metadata": {
    "collapsed": false
   },
   "outputs": [
    {
     "data": {
      "text/plain": [
       "array([  1.00000000e+08,   1.27427499e+08,   1.62377674e+08,\n",
       "         2.06913808e+08,   2.63665090e+08,   3.35981829e+08,\n",
       "         4.28133240e+08,   5.45559478e+08,   6.95192796e+08,\n",
       "         8.85866790e+08,   1.12883789e+09,   1.43844989e+09,\n",
       "         1.83298071e+09,   2.33572147e+09,   2.97635144e+09,\n",
       "         3.79269019e+09,   4.83293024e+09,   6.15848211e+09,\n",
       "         7.84759970e+09,   1.00000000e+10])"
      ]
     },
     "execution_count": 122,
     "metadata": {},
     "output_type": "execute_result"
    }
   ],
   "source": [
    "l1_penalty_values"
   ]
  },
  {
   "cell_type": "code",
   "execution_count": 123,
   "metadata": {
    "collapsed": false
   },
   "outputs": [
    {
     "name": "stdout",
     "output_type": "stream",
     "text": [
      "l1_penalty: 100000000.0\n",
      "18\n",
      "l1_penalty: 127427498.57\n",
      "18\n",
      "l1_penalty: 162377673.919\n",
      "18\n",
      "l1_penalty: 206913808.111\n",
      "18\n",
      "l1_penalty: 263665089.873\n",
      "17\n",
      "l1_penalty: 335981828.628\n",
      "17\n",
      "l1_penalty: 428133239.872\n",
      "17\n",
      "l1_penalty: 545559478.117\n",
      "17\n",
      "l1_penalty: 695192796.178\n",
      "17\n",
      "l1_penalty: 885866790.41\n",
      "16\n",
      "l1_penalty: 1128837891.68\n",
      "15\n",
      "l1_penalty: 1438449888.29\n",
      "15\n",
      "l1_penalty: 1832980710.83\n",
      "13\n",
      "l1_penalty: 2335721469.09\n",
      "11\n",
      "l1_penalty: 2976351441.63\n",
      "10\n",
      "l1_penalty: 3792690190.73\n",
      "6\n",
      "l1_penalty: 4832930238.57\n",
      "5\n",
      "l1_penalty: 6158482110.66\n",
      "3\n",
      "l1_penalty: 7847599703.51\n",
      "1\n",
      "l1_penalty: 10000000000.0\n",
      "1\n"
     ]
    }
   ],
   "source": [
    "non_zero = []\n",
    "l1_penalty_min = 0\n",
    "l1_penalty_max = 1e20\n",
    "for l1_penalty in l1_penalty_values:\n",
    "    print \"l1_penalty: \" + str(l1_penalty)\n",
    "    model = graphlab.linear_regression.create(training, target = 'price', features = all_features, validation_set = None,\n",
    "                                             l1_penalty = l1_penalty, l2_penalty = 0., verbose = False)\n",
    "    non_zero.append(model['coefficients']['value'].nnz())\n",
    "    if (model['coefficients']['value'].nnz() > max_nonzeros) & (l1_penalty > l1_penalty_min):\n",
    "        l1_penalty_min = l1_penalty\n",
    "    if (model['coefficients']['value'].nnz() < max_nonzeros) & (l1_penalty < l1_penalty_max):\n",
    "        l1_penalty_max = l1_penalty\n",
    "    print model['coefficients']['value'].nnz()\n",
    "    "
   ]
  },
  {
   "cell_type": "code",
   "execution_count": 124,
   "metadata": {
    "collapsed": false
   },
   "outputs": [
    {
     "data": {
      "text/plain": [
       "2976351441.6313128"
      ]
     },
     "execution_count": 124,
     "metadata": {},
     "output_type": "execute_result"
    }
   ],
   "source": [
    "l1_penalty_min"
   ]
  },
  {
   "cell_type": "code",
   "execution_count": 126,
   "metadata": {
    "collapsed": false
   },
   "outputs": [
    {
     "data": {
      "text/plain": [
       "3792690191.0"
      ]
     },
     "execution_count": 126,
     "metadata": {},
     "output_type": "execute_result"
    }
   ],
   "source": [
    "l1_penalty_max.round()"
   ]
  },
  {
   "cell_type": "code",
   "execution_count": 93,
   "metadata": {
    "collapsed": true
   },
   "outputs": [],
   "source": [
    "l1_penalty_values = np.linspace(l1_penalty_min, l1_penalty_max, 20)"
   ]
  },
  {
   "cell_type": "code",
   "execution_count": 94,
   "metadata": {
    "collapsed": false
   },
   "outputs": [
    {
     "data": {
      "text/plain": [
       "array([  2.97635144e+09,   3.01931664e+09,   3.06228184e+09,\n",
       "         3.10524703e+09,   3.14821223e+09,   3.19117743e+09,\n",
       "         3.23414263e+09,   3.27710782e+09,   3.32007302e+09,\n",
       "         3.36303822e+09,   3.40600341e+09,   3.44896861e+09,\n",
       "         3.49193381e+09,   3.53489901e+09,   3.57786420e+09,\n",
       "         3.62082940e+09,   3.66379460e+09,   3.70675980e+09,\n",
       "         3.74972499e+09,   3.79269019e+09])"
      ]
     },
     "execution_count": 94,
     "metadata": {},
     "output_type": "execute_result"
    }
   ],
   "source": [
    "l1_penalty_values"
   ]
  },
  {
   "cell_type": "code",
   "execution_count": 117,
   "metadata": {
    "collapsed": false
   },
   "outputs": [
    {
     "name": "stdout",
     "output_type": "stream",
     "text": [
      "l1_penalty: 2976351441.63\n",
      "9.64876826273e+14\n",
      "10\n",
      "l1_penalty: 3019316638.95\n",
      "9.72840378296e+14\n",
      "10\n",
      "l1_penalty: 3062281836.27\n",
      "9.81196599802e+14\n",
      "10\n",
      "l1_penalty: 3105247033.59\n",
      "9.89653612279e+14\n",
      "10\n",
      "l1_penalty: 3148212230.92\n",
      "9.98361723081e+14\n",
      "10\n",
      "l1_penalty: 3191177428.24\n",
      "1.00822970436e+15\n",
      "9\n",
      "l1_penalty: 3234142625.56\n",
      "1.01702550003e+15\n",
      "9\n",
      "l1_penalty: 3277107822.88\n",
      "1.02492450555e+15\n",
      "8\n",
      "l1_penalty: 3320073020.2\n",
      "1.0299794723e+15\n",
      "7\n",
      "l1_penalty: 3363038217.52\n",
      "1.03293901937e+15\n",
      "7\n",
      "l1_penalty: 3406003414.84\n",
      "1.03646285326e+15\n",
      "7\n",
      "l1_penalty: 3448968612.16\n",
      "1.0401993584e+15\n",
      "7\n",
      "l1_penalty: 3491933809.48\n",
      "1.04511992951e+15\n",
      "7\n",
      "l1_penalty: 3534899006.81\n",
      "1.05027158412e+15\n",
      "7\n",
      "l1_penalty: 3577864204.13\n",
      "1.05541689503e+15\n",
      "7\n",
      "l1_penalty: 3620829401.45\n",
      "1.06058634457e+15\n",
      "7\n",
      "l1_penalty: 3663794598.77\n",
      "1.06475371829e+15\n",
      "6\n",
      "l1_penalty: 3706759796.09\n",
      "1.06876205082e+15\n",
      "6\n",
      "l1_penalty: 3749724993.41\n",
      "1.07276526773e+15\n",
      "6\n",
      "l1_penalty: 3792690190.73\n",
      "1.07695101957e+15\n",
      "6\n"
     ]
    }
   ],
   "source": [
    "low_rss = 1e25\n",
    "best_l1_pen = 0\n",
    "for l1_penalty in l1_penalty_values:\n",
    "    print \"l1_penalty: \" + str(l1_penalty)\n",
    "    model = graphlab.linear_regression.create(training, target = 'price', features = all_features, validation_set = None,\n",
    "                                             l1_penalty = l1_penalty, l2_penalty = 0., verbose = False)\n",
    "    RSS = ((validation['price'] - model.predict(validation))**2).sum()\n",
    "    print RSS\n",
    "    print model['coefficients']['value'].nnz()\n",
    "    if (model['coefficients']['value'].nnz() == 7) & (RSS < low_rss):\n",
    "        low_rss = RSS\n",
    "        best_l1_pen = l1_penalty\n",
    "        "
   ]
  },
  {
   "cell_type": "code",
   "execution_count": 118,
   "metadata": {
    "collapsed": false
   },
   "outputs": [
    {
     "data": {
      "text/plain": [
       "1029979472296641.5"
      ]
     },
     "execution_count": 118,
     "metadata": {},
     "output_type": "execute_result"
    }
   ],
   "source": [
    "low_rss"
   ]
  },
  {
   "cell_type": "code",
   "execution_count": 119,
   "metadata": {
    "collapsed": false
   },
   "outputs": [
    {
     "data": {
      "text/plain": [
       "3320073020.20013"
      ]
     },
     "execution_count": 119,
     "metadata": {},
     "output_type": "execute_result"
    }
   ],
   "source": [
    "best_l1_pen"
   ]
  },
  {
   "cell_type": "code",
   "execution_count": 120,
   "metadata": {
    "collapsed": false
   },
   "outputs": [
    {
     "name": "stdout",
     "output_type": "stream",
     "text": [
      "+------------------+-------+---------------+\n",
      "|       name       | index |     value     |\n",
      "+------------------+-------+---------------+\n",
      "|   (intercept)    |  None | 215675.924417 |\n",
      "|     bedrooms     |  None | 1228.59582293 |\n",
      "| bedrooms_square  |  None |      0.0      |\n",
      "|    bathrooms     |  None | 16669.4449433 |\n",
      "|   sqft_living    |  None | 33.0891011485 |\n",
      "| sqft_living_sqrt |  None |  728.74471267 |\n",
      "|     sqft_lot     |  None |      0.0      |\n",
      "|  sqft_lot_sqrt   |  None |      0.0      |\n",
      "|      floors      |  None |      0.0      |\n",
      "|  floors_square   |  None |      0.0      |\n",
      "|    waterfront    |  None |      0.0      |\n",
      "|       view       |  None |      0.0      |\n",
      "|    condition     |  None |      0.0      |\n",
      "|      grade       |  None | 3155.81538376 |\n",
      "|    sqft_above    |  None |  31.080485027 |\n",
      "|  sqft_basement   |  None |      0.0      |\n",
      "+------------------+-------+---------------+\n",
      "[18 rows x 3 columns]\n",
      "\n"
     ]
    }
   ],
   "source": [
    "final_model = graphlab.linear_regression.create(training, target = 'price', features = all_features, validation_set = None,\n",
    "                                               l1_penalty = best_l1_pen, l2_penalty = 0., verbose = False)\n",
    "final_model.get('coefficients').print_rows(num_rows = 16)"
   ]
  },
  {
   "cell_type": "code",
   "execution_count": null,
   "metadata": {
    "collapsed": true
   },
   "outputs": [],
   "source": []
  }
 ],
 "metadata": {
  "kernelspec": {
   "display_name": "Python 2",
   "language": "python",
   "name": "python2"
  },
  "language_info": {
   "codemirror_mode": {
    "name": "ipython",
    "version": 2
   },
   "file_extension": ".py",
   "mimetype": "text/x-python",
   "name": "python",
   "nbconvert_exporter": "python",
   "pygments_lexer": "ipython2",
   "version": "2.7.10"
  }
 },
 "nbformat": 4,
 "nbformat_minor": 0
}
